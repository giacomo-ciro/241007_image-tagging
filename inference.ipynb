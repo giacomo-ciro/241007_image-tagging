{
 "cells": [
  {
   "cell_type": "code",
   "execution_count": 1,
   "metadata": {},
   "outputs": [
    {
     "name": "stderr",
     "output_type": "stream",
     "text": [
      "c:\\Users\\giaco\\miniconda3\\envs\\recognize-anything\\lib\\site-packages\\tqdm\\auto.py:21: TqdmWarning: IProgress not found. Please update jupyter and ipywidgets. See https://ipywidgets.readthedocs.io/en/stable/user_install.html\n",
      "  from .autonotebook import tqdm as notebook_tqdm\n",
      "c:\\Users\\giaco\\miniconda3\\envs\\recognize-anything\\lib\\site-packages\\fairscale\\experimental\\nn\\offload.py:19: FutureWarning: `torch.cuda.amp.custom_fwd(args...)` is deprecated. Please use `torch.amp.custom_fwd(args..., device_type='cuda')` instead.\n",
      "  return torch.cuda.amp.custom_fwd(orig_func)  # type: ignore\n",
      "c:\\Users\\giaco\\miniconda3\\envs\\recognize-anything\\lib\\site-packages\\fairscale\\experimental\\nn\\offload.py:30: FutureWarning: `torch.cuda.amp.custom_bwd(args...)` is deprecated. Please use `torch.amp.custom_bwd(args..., device_type='cuda')` instead.\n",
      "  return torch.cuda.amp.custom_bwd(orig_func)  # type: ignore\n"
     ]
    }
   ],
   "source": [
    "'''\n",
    " * The Recognize Anything Plus Model (RAM++)\n",
    " * Written by Xinyu Huang\n",
    "'''\n",
    "import argparse\n",
    "import numpy as np\n",
    "import random\n",
    "\n",
    "import torch\n",
    "\n",
    "from PIL import Image\n",
    "from ram.models import ram_plus\n",
    "from ram import inference_ram as inference\n",
    "from ram import get_transform"
   ]
  },
  {
   "cell_type": "code",
   "execution_count": 6,
   "metadata": {},
   "outputs": [],
   "source": [
    "# Set hyper params\n",
    "pretrained = 'ram_plus_swin_large_14m.pth'\n",
    "image_size = 384"
   ]
  },
  {
   "cell_type": "code",
   "execution_count": 3,
   "metadata": {},
   "outputs": [
    {
     "name": "stdout",
     "output_type": "stream",
     "text": [
      "--------------\n",
      "ram_plus_swin_large_14m.pth\n",
      "--------------\n",
      "load checkpoint from ram_plus_swin_large_14m.pth\n",
      "vit: swin_l\n",
      "No. of params: 329,493,046\n"
     ]
    }
   ],
   "source": [
    "# Load the model\n",
    "device = torch.device('cuda' if torch.cuda.is_available() else 'cpu')\n",
    "\n",
    "model = ram_plus(pretrained=pretrained,\n",
    "                            image_size=image_size,\n",
    "                            vit='swin_l')\n",
    "print(f'No. of params: {sum(p.numel() for p in model.parameters()):,}')\n",
    "\n",
    "model.eval()\n",
    "\n",
    "model = model.to(device)"
   ]
  },
  {
   "cell_type": "code",
   "execution_count": 11,
   "metadata": {},
   "outputs": [
    {
     "name": "stdout",
     "output_type": "stream",
     "text": [
      "Image Tags:  buffet | table | dinning table | plate | fill | food | person | meal | pastry | platter | sit\n"
     ]
    }
   ],
   "source": [
    "# Transform the input image\n",
    "image = 'img/demo5.jpg'\n",
    "transform = get_transform(image_size=image_size)\n",
    "image = transform(Image.open(image)).unsqueeze(0).to(device)\n",
    "\n",
    "# Run the model\n",
    "res = inference(image, model)\n",
    "print(\"Image Tags: \", res[0])\n",
    "# print(\"图像标签: \", res[1])"
   ]
  }
 ],
 "metadata": {
  "kernelspec": {
   "display_name": "recognize-anything",
   "language": "python",
   "name": "python3"
  },
  "language_info": {
   "codemirror_mode": {
    "name": "ipython",
    "version": 3
   },
   "file_extension": ".py",
   "mimetype": "text/x-python",
   "name": "python",
   "nbconvert_exporter": "python",
   "pygments_lexer": "ipython3",
   "version": "3.8.20"
  }
 },
 "nbformat": 4,
 "nbformat_minor": 2
}
